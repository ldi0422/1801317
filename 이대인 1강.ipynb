{
  "cells": [
    {
      "cell_type": "markdown",
      "metadata": {
        "id": "view-in-github",
        "colab_type": "text"
      },
      "source": [
        "<a href=\"https://colab.research.google.com/github/ldi0422/1801317/blob/main/%EC%9D%B4%EB%8C%80%EC%9D%B8%201%EA%B0%95.ipynb\" target=\"_parent\"><img src=\"https://colab.research.google.com/assets/colab-badge.svg\" alt=\"Open In Colab\"/></a>"
      ]
    },
    {
      "cell_type": "code",
      "source": [
        "def greet():\n",
        "  print(\"hello world\")"
      ],
      "metadata": {
        "id": "YqPCb_kTTYHZ"
      },
      "execution_count": 12,
      "outputs": []
    },
    {
      "cell_type": "code",
      "source": [
        "greet()"
      ],
      "metadata": {
        "colab": {
          "base_uri": "https://localhost:8080/"
        },
        "id": "MAPbKdl0Tie8",
        "outputId": "cb844f46-c4dd-4325-d0f7-39b3e5bee86d"
      },
      "execution_count": 13,
      "outputs": [
        {
          "output_type": "stream",
          "name": "stdout",
          "text": [
            "hello world\n"
          ]
        }
      ]
    },
    {
      "cell_type": "code",
      "source": [
        "def add(a,b):\n",
        "  c=a+b\n",
        "  return c"
      ],
      "metadata": {
        "id": "giCp5AxRSbdV"
      },
      "execution_count": 10,
      "outputs": []
    },
    {
      "cell_type": "code",
      "source": [
        "add(7,4)"
      ],
      "metadata": {
        "colab": {
          "base_uri": "https://localhost:8080/"
        },
        "id": "hFhR5oq3TRyu",
        "outputId": "5296bb52-8707-4b0c-bae1-5b88ca6425e4"
      },
      "execution_count": 11,
      "outputs": [
        {
          "output_type": "execute_result",
          "data": {
            "text/plain": [
              "11"
            ]
          },
          "metadata": {},
          "execution_count": 11
        }
      ]
    },
    {
      "cell_type": "code",
      "source": [
        "def multiply(a,b):\n",
        "  c=a*b\n",
        "  return c\n",
        "multiply(8,5)"
      ],
      "metadata": {
        "colab": {
          "base_uri": "https://localhost:8080/"
        },
        "id": "V1w5TlkRTm9n",
        "outputId": "7ce8df8b-2028-478a-ae78-25ead37dbe2b"
      },
      "execution_count": 14,
      "outputs": [
        {
          "output_type": "execute_result",
          "data": {
            "text/plain": [
              "40"
            ]
          },
          "metadata": {},
          "execution_count": 14
        }
      ]
    },
    {
      "cell_type": "code",
      "source": [
        "def greet2(name):\n",
        "  print('반갑습니다',name)\n",
        "  print(name,'님은 파이썬의 세계로 오셨습니다')\n",
        "\n",
        "greet2('이대인')"
      ],
      "metadata": {
        "colab": {
          "base_uri": "https://localhost:8080/"
        },
        "id": "jSr_qBSZLvTz",
        "outputId": "319f213f-609f-457e-8a74-d86ba1d1e745"
      },
      "execution_count": 4,
      "outputs": [
        {
          "output_type": "stream",
          "name": "stdout",
          "text": [
            "반갑습니다 이대인\n",
            "이대인 님은 파이썬의 세계로 오셨습니다\n"
          ]
        }
      ]
    },
    {
      "cell_type": "code",
      "source": [
        "def greet2(name):\n",
        "  print('반갑습니다',name)\n",
        "  print(name,'님은 파이썬의 세계로 오셨습니다')\n",
        "inputname='이대인'\n",
        "greet2(inputname)"
      ],
      "metadata": {
        "colab": {
          "base_uri": "https://localhost:8080/"
        },
        "id": "qexBUWoGT9iz",
        "outputId": "e46db2cf-a59d-47c5-f580-33cf55c63f62"
      },
      "execution_count": 16,
      "outputs": [
        {
          "output_type": "stream",
          "name": "stdout",
          "text": [
            "반갑습니다 이대인\n",
            "이대인 님은 파이썬의 세계로 오셨습니다\n"
          ]
        }
      ]
    },
    {
      "cell_type": "code",
      "source": [
        "def adder(num1,num2):\n",
        "  sum=num1+num2\n",
        "  print('덧셈 결과:',num1+num2)\n",
        "adder(17,5.745)"
      ],
      "metadata": {
        "colab": {
          "base_uri": "https://localhost:8080/"
        },
        "id": "qa2LLG2HMbmB",
        "outputId": "12744131-8475-4253-bad7-4267cf59c244"
      },
      "execution_count": 17,
      "outputs": [
        {
          "output_type": "stream",
          "name": "stdout",
          "text": [
            "덧셈 결과: 22.745\n"
          ]
        }
      ]
    },
    {
      "cell_type": "code",
      "source": [
        "def adder(num1,num2):\n",
        "  sum=num1+num2\n",
        "  return sum\n",
        "result=adder(17,5.745)\n",
        "print(sum)"
      ],
      "metadata": {
        "colab": {
          "base_uri": "https://localhost:8080/"
        },
        "id": "wbrHFDjEUlxH",
        "outputId": "8289e685-7552-4e96-87b7-0a9392cd5fbd"
      },
      "execution_count": 20,
      "outputs": [
        {
          "output_type": "stream",
          "name": "stdout",
          "text": [
            "<built-in function sum>\n"
          ]
        }
      ]
    },
    {
      "cell_type": "code",
      "source": [
        "def adder(num1,num2):\n",
        "  sum=num1+num2\n",
        "  return sum\n",
        "def main():\n",
        "  print(adder(16,22))\n",
        "main()"
      ],
      "metadata": {
        "colab": {
          "base_uri": "https://localhost:8080/"
        },
        "id": "3W54axwSVfsw",
        "outputId": "52aae6d7-8b59-453d-bd6e-1f8de5b12404"
      },
      "execution_count": 21,
      "outputs": [
        {
          "output_type": "stream",
          "name": "stdout",
          "text": [
            "38\n"
          ]
        }
      ]
    },
    {
      "cell_type": "code",
      "source": [
        "max(8,4,9)"
      ],
      "metadata": {
        "colab": {
          "base_uri": "https://localhost:8080/"
        },
        "id": "CMX8TchIV3dn",
        "outputId": "52861cc9-6ed7-49d9-be24-d2914d9cb313"
      },
      "execution_count": 22,
      "outputs": [
        {
          "output_type": "execute_result",
          "data": {
            "text/plain": [
              "9"
            ]
          },
          "metadata": {},
          "execution_count": 22
        }
      ]
    },
    {
      "cell_type": "code",
      "source": [
        "min(6,2,5)"
      ],
      "metadata": {
        "colab": {
          "base_uri": "https://localhost:8080/"
        },
        "id": "pznolJCAV8g9",
        "outputId": "b327d4dc-5af0-4477-9703-aa20af1df06b"
      },
      "execution_count": 23,
      "outputs": [
        {
          "output_type": "execute_result",
          "data": {
            "text/plain": [
              "2"
            ]
          },
          "metadata": {},
          "execution_count": 23
        }
      ]
    },
    {
      "cell_type": "code",
      "source": [
        "round(7.26)"
      ],
      "metadata": {
        "colab": {
          "base_uri": "https://localhost:8080/"
        },
        "id": "fGVAwpX9WAPd",
        "outputId": "213a08e0-8910-422c-82a5-638cde0d207a"
      },
      "execution_count": 24,
      "outputs": [
        {
          "output_type": "execute_result",
          "data": {
            "text/plain": [
              "7"
            ]
          },
          "metadata": {},
          "execution_count": 24
        }
      ]
    },
    {
      "cell_type": "code",
      "source": [
        "round(7.7)"
      ],
      "metadata": {
        "colab": {
          "base_uri": "https://localhost:8080/"
        },
        "id": "Xt-5VQghWGWL",
        "outputId": "03bd6597-b453-4c8f-bc08-d0e5f1273951"
      },
      "execution_count": 25,
      "outputs": [
        {
          "output_type": "execute_result",
          "data": {
            "text/plain": [
              "8"
            ]
          },
          "metadata": {},
          "execution_count": 25
        }
      ]
    },
    {
      "cell_type": "code",
      "source": [
        "abs(-7)"
      ],
      "metadata": {
        "colab": {
          "base_uri": "https://localhost:8080/"
        },
        "id": "25a_w8VkWLRs",
        "outputId": "8f091a45-4c52-47d9-e081-f4d8ab3efc91"
      },
      "execution_count": 26,
      "outputs": [
        {
          "output_type": "execute_result",
          "data": {
            "text/plain": [
              "7"
            ]
          },
          "metadata": {},
          "execution_count": 26
        }
      ]
    },
    {
      "cell_type": "code",
      "source": [
        "pow(4,3)"
      ],
      "metadata": {
        "colab": {
          "base_uri": "https://localhost:8080/"
        },
        "id": "or3oCemQWO8F",
        "outputId": "9d5e379b-0ff5-45aa-f545-a31c6927e9c4"
      },
      "execution_count": 27,
      "outputs": [
        {
          "output_type": "execute_result",
          "data": {
            "text/plain": [
              "64"
            ]
          },
          "metadata": {},
          "execution_count": 27
        }
      ]
    },
    {
      "cell_type": "code",
      "source": [
        "round(4.21254,4)"
      ],
      "metadata": {
        "colab": {
          "base_uri": "https://localhost:8080/"
        },
        "id": "kdHCtrVsXA02",
        "outputId": "e3358221-6e3d-405b-c8ac-cbdfab4cf2e6"
      },
      "execution_count": 28,
      "outputs": [
        {
          "output_type": "execute_result",
          "data": {
            "text/plain": [
              "4.2125"
            ]
          },
          "metadata": {},
          "execution_count": 28
        }
      ]
    },
    {
      "cell_type": "code",
      "source": [
        "round(4.21254,2)"
      ],
      "metadata": {
        "colab": {
          "base_uri": "https://localhost:8080/"
        },
        "id": "TRe84URfXM1a",
        "outputId": "feeb1da5-d3a2-4804-8f12-f9bb75360a85"
      },
      "execution_count": 29,
      "outputs": [
        {
          "output_type": "execute_result",
          "data": {
            "text/plain": [
              "4.21"
            ]
          },
          "metadata": {},
          "execution_count": 29
        }
      ]
    },
    {
      "cell_type": "code",
      "source": [
        "result=eval(input(\"뭐든 넣어요:\"))"
      ],
      "metadata": {
        "colab": {
          "base_uri": "https://localhost:8080/"
        },
        "id": "3vW6TGU1XQdy",
        "outputId": "e5ab8ae1-db19-4fa0-c7da-83faa3291dfd"
      },
      "execution_count": 30,
      "outputs": [
        {
          "name": "stdout",
          "output_type": "stream",
          "text": [
            "뭐든 넣어요:2-4*5+3\n"
          ]
        }
      ]
    },
    {
      "cell_type": "code",
      "source": [
        "result"
      ],
      "metadata": {
        "colab": {
          "base_uri": "https://localhost:8080/"
        },
        "id": "E36Ip5NZXiMq",
        "outputId": "ba8bc35c-8448-454f-f0f2-8ce047804ce8"
      },
      "execution_count": 31,
      "outputs": [
        {
          "output_type": "execute_result",
          "data": {
            "text/plain": [
              "-15"
            ]
          },
          "metadata": {},
          "execution_count": 31
        }
      ]
    },
    {
      "cell_type": "code",
      "source": [
        "def ret():\n",
        "  return 12"
      ],
      "metadata": {
        "id": "IPq0vDUEXlRd"
      },
      "execution_count": 32,
      "outputs": []
    },
    {
      "cell_type": "code",
      "source": [
        "result=eval(input(\"뭐든 넣어요:\"))"
      ],
      "metadata": {
        "colab": {
          "base_uri": "https://localhost:8080/"
        },
        "id": "vyeX2S9sXyJj",
        "outputId": "2404b0d6-ce47-464a-fb48-470180a8d832"
      },
      "execution_count": 33,
      "outputs": [
        {
          "name": "stdout",
          "output_type": "stream",
          "text": [
            "뭐든 넣어요:ret()\n"
          ]
        }
      ]
    },
    {
      "cell_type": "code",
      "source": [
        "print(result)"
      ],
      "metadata": {
        "colab": {
          "base_uri": "https://localhost:8080/"
        },
        "id": "um3R1IgjX9J7",
        "outputId": "bd0af35e-2be5-49ff-d76a-31e44b323da5"
      },
      "execution_count": 34,
      "outputs": [
        {
          "output_type": "stream",
          "name": "stdout",
          "text": [
            "12\n"
          ]
        }
      ]
    },
    {
      "cell_type": "code",
      "source": [
        "def greet_three_times():\n",
        "  print('hi')\n",
        "  print('hi')\n",
        "  print('hi')\n",
        "greet_three_times()"
      ],
      "metadata": {
        "colab": {
          "base_uri": "https://localhost:8080/"
        },
        "id": "Y-9Ma_LTYDtX",
        "outputId": "620195e7-0bcb-4936-8bd3-3c1c8c90e777"
      },
      "execution_count": 36,
      "outputs": [
        {
          "output_type": "stream",
          "name": "stdout",
          "text": [
            "hi\n",
            "hi\n",
            "hi\n"
          ]
        }
      ]
    },
    {
      "cell_type": "code",
      "source": [
        "def greet_10(num):\n",
        "  if(num>0):\n",
        "    print('hi')\n",
        "    num=num-1\n",
        "    greet_10(num)\n",
        "greet_10(3)"
      ],
      "metadata": {
        "colab": {
          "base_uri": "https://localhost:8080/"
        },
        "id": "TpOBgPUnYcd4",
        "outputId": "eb9fcd5f-b252-412c-b068-98351f2e9340"
      },
      "execution_count": 37,
      "outputs": [
        {
          "output_type": "stream",
          "name": "stdout",
          "text": [
            "hi\n",
            "hi\n",
            "hi\n"
          ]
        }
      ]
    },
    {
      "cell_type": "code",
      "source": [
        "sum=0\n",
        "for i in range(1,11):\n",
        "  sum=sum+i\n",
        "for i in range(1,11)"
      ],
      "metadata": {
        "colab": {
          "base_uri": "https://localhost:8080/",
          "height": 137
        },
        "id": "6T6I4e8bY8-K",
        "outputId": "9de946d6-e9bd-48f2-b760-8cd1814a337e"
      },
      "execution_count": 40,
      "outputs": [
        {
          "output_type": "error",
          "ename": "SyntaxError",
          "evalue": "ignored",
          "traceback": [
            "\u001b[0;36m  File \u001b[0;32m\"<ipython-input-40-4823fba33dca>\"\u001b[0;36m, line \u001b[0;32m4\u001b[0m\n\u001b[0;31m    for i in range(1,11)\u001b[0m\n\u001b[0m                        ^\u001b[0m\n\u001b[0;31mSyntaxError\u001b[0m\u001b[0;31m:\u001b[0m invalid syntax\n"
          ]
        }
      ]
    },
    {
      "cell_type": "code",
      "source": [
        "import random\n",
        "number_of_trials=5000000\n",
        "numberofhits=0\n",
        "for i in range(number_of_trials):\n",
        "  x=random.random()*2-1\n",
        "  y=random.random()*2-1\n",
        "  if x*x+y*y<=1:\n",
        "    numberofhits+=1"
      ],
      "metadata": {
        "id": "p1oM7WEEaE06"
      },
      "execution_count": 41,
      "outputs": []
    },
    {
      "cell_type": "code",
      "source": [
        "pi=4*numberofhits/number_of_trials\n",
        "print(\"Pi는\",pi,\"입니다\")"
      ],
      "metadata": {
        "colab": {
          "base_uri": "https://localhost:8080/"
        },
        "id": "iPwruIYsa4VM",
        "outputId": "9babb83d-f37e-43d5-9473-24de623697ea"
      },
      "execution_count": 43,
      "outputs": [
        {
          "output_type": "stream",
          "name": "stdout",
          "text": [
            "Pi는 3.1426496 입니다\n"
          ]
        }
      ]
    },
    {
      "cell_type": "code",
      "source": [
        "count=0\n",
        "while count<100:\n",
        "  print(\"프로그래밍은 재미있습니다!\")\n",
        "  count=count+1"
      ],
      "metadata": {
        "colab": {
          "base_uri": "https://localhost:8080/"
        },
        "id": "yKT000NNbmE2",
        "outputId": "4c34a7ce-2124-4e49-8f1b-fbef072a1f07"
      },
      "execution_count": 44,
      "outputs": [
        {
          "output_type": "stream",
          "name": "stdout",
          "text": [
            "프로그래밍은 재미있습니다!\n",
            "프로그래밍은 재미있습니다!\n",
            "프로그래밍은 재미있습니다!\n",
            "프로그래밍은 재미있습니다!\n",
            "프로그래밍은 재미있습니다!\n",
            "프로그래밍은 재미있습니다!\n",
            "프로그래밍은 재미있습니다!\n",
            "프로그래밍은 재미있습니다!\n",
            "프로그래밍은 재미있습니다!\n",
            "프로그래밍은 재미있습니다!\n",
            "프로그래밍은 재미있습니다!\n",
            "프로그래밍은 재미있습니다!\n",
            "프로그래밍은 재미있습니다!\n",
            "프로그래밍은 재미있습니다!\n",
            "프로그래밍은 재미있습니다!\n",
            "프로그래밍은 재미있습니다!\n",
            "프로그래밍은 재미있습니다!\n",
            "프로그래밍은 재미있습니다!\n",
            "프로그래밍은 재미있습니다!\n",
            "프로그래밍은 재미있습니다!\n",
            "프로그래밍은 재미있습니다!\n",
            "프로그래밍은 재미있습니다!\n",
            "프로그래밍은 재미있습니다!\n",
            "프로그래밍은 재미있습니다!\n",
            "프로그래밍은 재미있습니다!\n",
            "프로그래밍은 재미있습니다!\n",
            "프로그래밍은 재미있습니다!\n",
            "프로그래밍은 재미있습니다!\n",
            "프로그래밍은 재미있습니다!\n",
            "프로그래밍은 재미있습니다!\n",
            "프로그래밍은 재미있습니다!\n",
            "프로그래밍은 재미있습니다!\n",
            "프로그래밍은 재미있습니다!\n",
            "프로그래밍은 재미있습니다!\n",
            "프로그래밍은 재미있습니다!\n",
            "프로그래밍은 재미있습니다!\n",
            "프로그래밍은 재미있습니다!\n",
            "프로그래밍은 재미있습니다!\n",
            "프로그래밍은 재미있습니다!\n",
            "프로그래밍은 재미있습니다!\n",
            "프로그래밍은 재미있습니다!\n",
            "프로그래밍은 재미있습니다!\n",
            "프로그래밍은 재미있습니다!\n",
            "프로그래밍은 재미있습니다!\n",
            "프로그래밍은 재미있습니다!\n",
            "프로그래밍은 재미있습니다!\n",
            "프로그래밍은 재미있습니다!\n",
            "프로그래밍은 재미있습니다!\n",
            "프로그래밍은 재미있습니다!\n",
            "프로그래밍은 재미있습니다!\n",
            "프로그래밍은 재미있습니다!\n",
            "프로그래밍은 재미있습니다!\n",
            "프로그래밍은 재미있습니다!\n",
            "프로그래밍은 재미있습니다!\n",
            "프로그래밍은 재미있습니다!\n",
            "프로그래밍은 재미있습니다!\n",
            "프로그래밍은 재미있습니다!\n",
            "프로그래밍은 재미있습니다!\n",
            "프로그래밍은 재미있습니다!\n",
            "프로그래밍은 재미있습니다!\n",
            "프로그래밍은 재미있습니다!\n",
            "프로그래밍은 재미있습니다!\n",
            "프로그래밍은 재미있습니다!\n",
            "프로그래밍은 재미있습니다!\n",
            "프로그래밍은 재미있습니다!\n",
            "프로그래밍은 재미있습니다!\n",
            "프로그래밍은 재미있습니다!\n",
            "프로그래밍은 재미있습니다!\n",
            "프로그래밍은 재미있습니다!\n",
            "프로그래밍은 재미있습니다!\n",
            "프로그래밍은 재미있습니다!\n",
            "프로그래밍은 재미있습니다!\n",
            "프로그래밍은 재미있습니다!\n",
            "프로그래밍은 재미있습니다!\n",
            "프로그래밍은 재미있습니다!\n",
            "프로그래밍은 재미있습니다!\n",
            "프로그래밍은 재미있습니다!\n",
            "프로그래밍은 재미있습니다!\n",
            "프로그래밍은 재미있습니다!\n",
            "프로그래밍은 재미있습니다!\n",
            "프로그래밍은 재미있습니다!\n",
            "프로그래밍은 재미있습니다!\n",
            "프로그래밍은 재미있습니다!\n",
            "프로그래밍은 재미있습니다!\n",
            "프로그래밍은 재미있습니다!\n",
            "프로그래밍은 재미있습니다!\n",
            "프로그래밍은 재미있습니다!\n",
            "프로그래밍은 재미있습니다!\n",
            "프로그래밍은 재미있습니다!\n",
            "프로그래밍은 재미있습니다!\n",
            "프로그래밍은 재미있습니다!\n",
            "프로그래밍은 재미있습니다!\n",
            "프로그래밍은 재미있습니다!\n",
            "프로그래밍은 재미있습니다!\n",
            "프로그래밍은 재미있습니다!\n",
            "프로그래밍은 재미있습니다!\n",
            "프로그래밍은 재미있습니다!\n",
            "프로그래밍은 재미있습니다!\n",
            "프로그래밍은 재미있습니다!\n",
            "프로그래밍은 재미있습니다!\n"
          ]
        }
      ]
    },
    {
      "cell_type": "code",
      "source": [
        "import random\n",
        "number_of_trials=5000000\n",
        "numberofhits=0\n",
        "i=0\n",
        "while(i<number_of_trials):\n",
        "  x=random.random()*2-1\n",
        "  y=random.random()*2-1\n",
        "  if x*x+y*y<=1:\n",
        "    numberofhits+=1\n",
        "    i=i+1\n",
        "pi=4*numberofhits/number_of_trials\n",
        "print(\"PI는\",pi,\"입니다\")"
      ],
      "metadata": {
        "colab": {
          "base_uri": "https://localhost:8080/"
        },
        "id": "rcLE01Amb_AL",
        "outputId": "9cf10f66-cc2a-49c9-8c31-f6bf4702eeb2"
      },
      "execution_count": 45,
      "outputs": [
        {
          "output_type": "stream",
          "name": "stdout",
          "text": [
            "PI는 4.0 입니다\n"
          ]
        }
      ]
    },
    {
      "cell_type": "code",
      "source": [
        "x=3\n",
        "y=2\n",
        "bool(x>y)"
      ],
      "metadata": {
        "colab": {
          "base_uri": "https://localhost:8080/"
        },
        "id": "-TJPp1Cec2ps",
        "outputId": "f523cb8c-653f-4936-8893-b14217a8ee21"
      },
      "execution_count": 46,
      "outputs": [
        {
          "output_type": "execute_result",
          "data": {
            "text/plain": [
              "True"
            ]
          },
          "metadata": {},
          "execution_count": 46
        }
      ]
    },
    {
      "cell_type": "code",
      "source": [
        "x=3\n",
        "y=2\n",
        "bool(x==y)"
      ],
      "metadata": {
        "colab": {
          "base_uri": "https://localhost:8080/"
        },
        "id": "1_Xa-tdIdQLI",
        "outputId": "97fd5508-1bde-4ae5-c186-2cecb6ad1eba"
      },
      "execution_count": 48,
      "outputs": [
        {
          "output_type": "execute_result",
          "data": {
            "text/plain": [
              "False"
            ]
          },
          "metadata": {},
          "execution_count": 48
        }
      ]
    },
    {
      "cell_type": "code",
      "source": [
        "x=3\n",
        "y=2\n",
        "bool(x!=y)"
      ],
      "metadata": {
        "colab": {
          "base_uri": "https://localhost:8080/"
        },
        "id": "yiqJ1csEc_i3",
        "outputId": "0c1c4230-b770-40e0-f6e0-914c10749491"
      },
      "execution_count": 47,
      "outputs": [
        {
          "output_type": "execute_result",
          "data": {
            "text/plain": [
              "True"
            ]
          },
          "metadata": {},
          "execution_count": 47
        }
      ]
    },
    {
      "cell_type": "code",
      "source": [
        "money=2000\n",
        "if money>=3000:\n",
        "  print(\"택시를 타고 가라\")\n",
        "else:\n",
        "  print(\"걸어가라\")"
      ],
      "metadata": {
        "colab": {
          "base_uri": "https://localhost:8080/"
        },
        "id": "wCD8f9SadUQJ",
        "outputId": "7784c870-4b60-4400-8f05-fe43fbf20b24"
      },
      "execution_count": 49,
      "outputs": [
        {
          "output_type": "stream",
          "name": "stdout",
          "text": [
            "걸어가라\n"
          ]
        }
      ]
    },
    {
      "cell_type": "code",
      "source": [
        "money=2000\n",
        "card=True\n",
        "if money>=3000 or card:\n",
        "  print(\"택시를 타고 가라\")\n",
        "else:\n",
        "  print(\"걸어가라\")"
      ],
      "metadata": {
        "colab": {
          "base_uri": "https://localhost:8080/"
        },
        "id": "-gLjedO-dcw0",
        "outputId": "4eb07620-da08-4dd9-83fc-d98894a8ac11"
      },
      "execution_count": 50,
      "outputs": [
        {
          "output_type": "stream",
          "name": "stdout",
          "text": [
            "택시를 타고 가라\n"
          ]
        }
      ]
    },
    {
      "cell_type": "code",
      "source": [
        "bool(True or True)"
      ],
      "metadata": {
        "colab": {
          "base_uri": "https://localhost:8080/"
        },
        "id": "isdDruAddwcb",
        "outputId": "44acc231-5426-475a-9eb1-baed26cd3cee"
      },
      "execution_count": 51,
      "outputs": [
        {
          "output_type": "execute_result",
          "data": {
            "text/plain": [
              "True"
            ]
          },
          "metadata": {},
          "execution_count": 51
        }
      ]
    },
    {
      "cell_type": "code",
      "source": [
        "bool(True or False)"
      ],
      "metadata": {
        "colab": {
          "base_uri": "https://localhost:8080/"
        },
        "id": "Upd1aE70d5q3",
        "outputId": "58bb7374-9fa5-41cd-fbf3-56fbdb327992"
      },
      "execution_count": 53,
      "outputs": [
        {
          "output_type": "execute_result",
          "data": {
            "text/plain": [
              "True"
            ]
          },
          "metadata": {},
          "execution_count": 53
        }
      ]
    },
    {
      "cell_type": "code",
      "source": [
        "bool(False or False)"
      ],
      "metadata": {
        "colab": {
          "base_uri": "https://localhost:8080/"
        },
        "id": "LZ-NplXZd7pr",
        "outputId": "ddfc4238-8a98-4d1a-d3f4-0864959e0877"
      },
      "execution_count": 54,
      "outputs": [
        {
          "output_type": "execute_result",
          "data": {
            "text/plain": [
              "False"
            ]
          },
          "metadata": {},
          "execution_count": 54
        }
      ]
    },
    {
      "cell_type": "code",
      "source": [
        "bool(not True)"
      ],
      "metadata": {
        "colab": {
          "base_uri": "https://localhost:8080/"
        },
        "id": "ZAlAfch7d9gz",
        "outputId": "83a62504-2780-444a-c336-3f15f4d24c67"
      },
      "execution_count": 55,
      "outputs": [
        {
          "output_type": "execute_result",
          "data": {
            "text/plain": [
              "False"
            ]
          },
          "metadata": {},
          "execution_count": 55
        }
      ]
    },
    {
      "cell_type": "code",
      "source": [
        "bool(not False)"
      ],
      "metadata": {
        "colab": {
          "base_uri": "https://localhost:8080/"
        },
        "id": "H4v0jzzwd_sa",
        "outputId": "04b527b7-a2c2-4b98-d0f2-5d84329d00bc"
      },
      "execution_count": 56,
      "outputs": [
        {
          "output_type": "execute_result",
          "data": {
            "text/plain": [
              "True"
            ]
          },
          "metadata": {},
          "execution_count": 56
        }
      ]
    },
    {
      "cell_type": "code",
      "source": [
        "bool((not True) or False)"
      ],
      "metadata": {
        "colab": {
          "base_uri": "https://localhost:8080/"
        },
        "id": "Rcy2oC3aeBPQ",
        "outputId": "d4aeb3db-e8be-4570-b11b-fde3b6c7a208"
      },
      "execution_count": 57,
      "outputs": [
        {
          "output_type": "execute_result",
          "data": {
            "text/plain": [
              "False"
            ]
          },
          "metadata": {},
          "execution_count": 57
        }
      ]
    },
    {
      "cell_type": "code",
      "source": [
        "bool((not False) or False)"
      ],
      "metadata": {
        "colab": {
          "base_uri": "https://localhost:8080/"
        },
        "id": "QuBGvWQkeBsp",
        "outputId": "04343c3d-859c-4bf2-b61a-49ee3d33df4b"
      },
      "execution_count": 58,
      "outputs": [
        {
          "output_type": "execute_result",
          "data": {
            "text/plain": [
              "True"
            ]
          },
          "metadata": {},
          "execution_count": 58
        }
      ]
    },
    {
      "cell_type": "code",
      "source": [
        "bool((not False) or False)"
      ],
      "metadata": {
        "colab": {
          "base_uri": "https://localhost:8080/"
        },
        "id": "JAiMo04teHVL",
        "outputId": "69684b2e-afb4-48cc-94ac-897ef138c89b"
      },
      "execution_count": 59,
      "outputs": [
        {
          "output_type": "execute_result",
          "data": {
            "text/plain": [
              "True"
            ]
          },
          "metadata": {},
          "execution_count": 59
        }
      ]
    },
    {
      "cell_type": "code",
      "source": [
        "1 in [1,2,3]"
      ],
      "metadata": {
        "colab": {
          "base_uri": "https://localhost:8080/"
        },
        "id": "m_jp8bx2eI-t",
        "outputId": "c495865d-0fbe-4079-cd34-ace532b5ef16"
      },
      "execution_count": 60,
      "outputs": [
        {
          "output_type": "execute_result",
          "data": {
            "text/plain": [
              "True"
            ]
          },
          "metadata": {},
          "execution_count": 60
        }
      ]
    },
    {
      "cell_type": "code",
      "source": [
        "1 not in [1,2,3]"
      ],
      "metadata": {
        "colab": {
          "base_uri": "https://localhost:8080/"
        },
        "id": "gANNG5MCeOqk",
        "outputId": "63a90bc9-13ec-4f20-b011-c38bfbf32090"
      },
      "execution_count": 61,
      "outputs": [
        {
          "output_type": "execute_result",
          "data": {
            "text/plain": [
              "False"
            ]
          },
          "metadata": {},
          "execution_count": 61
        }
      ]
    },
    {
      "cell_type": "code",
      "source": [
        "pocket=['paper','cellphone','money']\n",
        "if 'money' in pocket:\n",
        "  print(\"택시를 타고 가라\")\n",
        "else:\n",
        "  print(\"걸어가라\")"
      ],
      "metadata": {
        "colab": {
          "base_uri": "https://localhost:8080/"
        },
        "id": "Ms8rQHjNeSHK",
        "outputId": "e10b5c1f-06bf-42b3-c22b-310fe16b6b71"
      },
      "execution_count": 62,
      "outputs": [
        {
          "output_type": "stream",
          "name": "stdout",
          "text": [
            "택시를 타고 가라\n"
          ]
        }
      ]
    },
    {
      "cell_type": "code",
      "source": [
        "pocket=['paper','money','cellphone']\n",
        "if'money'in pocket:\n",
        "  pass\n",
        "else:\n",
        "  print(\"카드를 꺼내라\")"
      ],
      "metadata": {
        "id": "rzW5txwfeY05"
      },
      "execution_count": 64,
      "outputs": []
    },
    {
      "cell_type": "code",
      "source": [
        "pocket=['paper','cellphone']\n",
        "card=True\n",
        "if 'money'in pocket:\n",
        "  print(\"택시를 타고가라\")\n",
        "elif card:\n",
        "  print(\"택시를 타고가라\")\n",
        "else:\n",
        "    print(\"걸어가라\")"
      ],
      "metadata": {
        "colab": {
          "base_uri": "https://localhost:8080/"
        },
        "id": "xA19nnRoergC",
        "outputId": "f2a4be60-eb9c-48dd-9886-c4afbc988885"
      },
      "execution_count": 65,
      "outputs": [
        {
          "output_type": "stream",
          "name": "stdout",
          "text": [
            "택시를 타고가라\n"
          ]
        }
      ]
    },
    {
      "cell_type": "code",
      "source": [
        "if score >= 60:\n",
        "  message =\"success\"\n",
        "else:\n",
        "  message =\"failure\""
      ],
      "metadata": {
        "colab": {
          "base_uri": "https://localhost:8080/",
          "height": 229
        },
        "id": "Z0Ln1vA8e40V",
        "outputId": "a8acfc0a-5e59-4b5a-d0eb-a81c391802f0"
      },
      "execution_count": 71,
      "outputs": [
        {
          "output_type": "error",
          "ename": "NameError",
          "evalue": "ignored",
          "traceback": [
            "\u001b[0;31m---------------------------------------------------------------------------\u001b[0m",
            "\u001b[0;31mNameError\u001b[0m                                 Traceback (most recent call last)",
            "\u001b[0;32m<ipython-input-71-44d43c7a62a8>\u001b[0m in \u001b[0;36m<module>\u001b[0;34m()\u001b[0m\n\u001b[0;32m----> 1\u001b[0;31m \u001b[0;32mif\u001b[0m \u001b[0mscore\u001b[0m \u001b[0;34m>=\u001b[0m \u001b[0;36m60\u001b[0m\u001b[0;34m:\u001b[0m\u001b[0;34m\u001b[0m\u001b[0;34m\u001b[0m\u001b[0m\n\u001b[0m\u001b[1;32m      2\u001b[0m   \u001b[0mmessage\u001b[0m \u001b[0;34m=\u001b[0m\u001b[0;34m\"success\"\u001b[0m\u001b[0;34m\u001b[0m\u001b[0;34m\u001b[0m\u001b[0m\n\u001b[1;32m      3\u001b[0m \u001b[0;32melse\u001b[0m\u001b[0;34m:\u001b[0m\u001b[0;34m\u001b[0m\u001b[0;34m\u001b[0m\u001b[0m\n\u001b[1;32m      4\u001b[0m   \u001b[0mmessage\u001b[0m \u001b[0;34m=\u001b[0m\u001b[0;34m\"failure\"\u001b[0m\u001b[0;34m\u001b[0m\u001b[0;34m\u001b[0m\u001b[0m\n",
            "\u001b[0;31mNameError\u001b[0m: name 'score' is not defined"
          ]
        }
      ]
    },
    {
      "cell_type": "code",
      "source": [
        "message=\"success\"if score >=60 else \"failure\""
      ],
      "metadata": {
        "colab": {
          "base_uri": "https://localhost:8080/",
          "height": 174
        },
        "id": "eN3IVWJ5f8Yc",
        "outputId": "9d4e6459-7180-47a3-f8f4-9f59496e4d8b"
      },
      "execution_count": 72,
      "outputs": [
        {
          "output_type": "error",
          "ename": "NameError",
          "evalue": "ignored",
          "traceback": [
            "\u001b[0;31m---------------------------------------------------------------------------\u001b[0m",
            "\u001b[0;31mNameError\u001b[0m                                 Traceback (most recent call last)",
            "\u001b[0;32m<ipython-input-72-e7eee23326d1>\u001b[0m in \u001b[0;36m<module>\u001b[0;34m()\u001b[0m\n\u001b[0;32m----> 1\u001b[0;31m \u001b[0mmessage\u001b[0m\u001b[0;34m=\u001b[0m\u001b[0;34m\"success\"\u001b[0m\u001b[0;32mif\u001b[0m \u001b[0mscore\u001b[0m \u001b[0;34m>=\u001b[0m\u001b[0;36m60\u001b[0m \u001b[0;32melse\u001b[0m \u001b[0;34m\"failure\"\u001b[0m\u001b[0;34m\u001b[0m\u001b[0;34m\u001b[0m\u001b[0m\n\u001b[0m",
            "\u001b[0;31mNameError\u001b[0m: name 'score' is not defined"
          ]
        }
      ]
    }
  ],
  "metadata": {
    "colab": {
      "collapsed_sections": [],
      "name": "Colaboratory에 오신 것을 환영합니다",
      "provenance": [],
      "include_colab_link": true
    },
    "kernelspec": {
      "display_name": "Python 3",
      "name": "python3"
    }
  },
  "nbformat": 4,
  "nbformat_minor": 0
}